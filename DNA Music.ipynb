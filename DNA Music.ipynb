{
 "cells": [
  {
   "cell_type": "markdown",
   "id": "09dc0292-1dbb-4e6b-af04-956ee8069ba2",
   "metadata": {},
   "source": [
    "# CS5002 Final progect Group 3"
   ]
  },
  {
   "cell_type": "markdown",
   "id": "b7117f89-cbd8-4ae9-82ba-8f5e69005b42",
   "metadata": {},
   "source": [
    "# 1. Sonification of DNA Algorythm"
   ]
  },
  {
   "cell_type": "code",
   "execution_count": 2,
   "id": "46469348-2f73-4c17-8676-26a95858acaf",
   "metadata": {},
   "outputs": [],
   "source": [
    "import soundfile as sf\n",
    "from playsound import playsound\n",
    "import numpy as np\n",
    "import matplotlib.pyplot as plt"
   ]
  },
  {
   "cell_type": "code",
   "execution_count": 91,
   "id": "1fe51441-2ec1-4f75-b872-f7150a72a2db",
   "metadata": {},
   "outputs": [],
   "source": [
    "def nucleotides_to_sound(nucleotides):\n",
    "    \"\"\"\n",
    "    Connects sequence of nucleotides to corresponding notes frequencies in Fm7 chord:\n",
    "    Thymine (T) - F3 (174.61 Hz), Guanine (G) - Ab3 (207.65 Hz), Cytosine (C) - C4 (261.63 Hz), Adenine (A) - Eb4 (311.13 Hz). Or one octave higher:\n",
    "    #Thymine (T) - F4 (349.23 Hz), Guanine (G) - Ab4 (415.30 Hz), Cytosine (C) - C5 (523.25 Hz), Adenine (A) - Eb5 (622.25 Hz).\n",
    "    \n",
    "    Args:\n",
    "    - nucleotides (str): sequence of nucleotides in DNA\n",
    "\n",
    "    Returns:\n",
    "    - note_freqs (list of float): List of frequencies of the notes in Hz.\n",
    "    \"\"\"\n",
    "    \n",
    "    # Define the mapping of nucleotides to note frequencies\n",
    "    note_mapping = {'A': 311.13, 'T': 174.61, 'C': 261.63, 'G': 207.65}\n",
    "    # note_mapping = {'A': 622.25, 'T': 349.23, 'C': 523.25, 'G': 415.30}\n",
    "\n",
    "    # transform DNA sequence into a list\n",
    "    nuc_lst = list(nucleotides.upper())\n",
    "    \n",
    "    # Initialize an empty list to store note frequencies\n",
    "    note_freqs = []\n",
    "    \n",
    "    # Iterate over the nucleotides\n",
    "    for nuc in nuc_lst:\n",
    "        note_freqs.append(note_mapping[nuc])\n",
    "    \n",
    "    return note_freqs\n",
    "\n"
   ]
  },
  {
   "cell_type": "markdown",
   "id": "0d959a21-45a0-4326-a62c-dfdd5749388d",
   "metadata": {},
   "source": [
    "The F minor seven (Fm7) chord consists of four notes: the root note F, the minor third A♭, the perfect fifth C, and the minor seventh E♭. While one could choose any four notes theoretically, this specific chord is chosen for its pleasing and harmonious sound. Fm7 is often associated with moderate tragedy, light sadness, a touch of mysticism, and a sense of spaciousness."
   ]
  },
  {
   "cell_type": "code",
   "execution_count": 25,
   "id": "da45182f-6322-420c-b479-91ca7ec6575b",
   "metadata": {},
   "outputs": [
    {
     "name": "stdout",
     "output_type": "stream",
     "text": [
      "[523.25, 523.25, 523.25, 523.25, 523.25, 523.25, 523.25, 523.25, 523.25, 523.25, 523.25, 523.25, 523.25, 523.25, 523.25, 523.25, 349.23, 293.66, 293.66, 523.25, 523.25, 523.25, 523.25, 523.25, 523.25]\n"
     ]
    }
   ],
   "source": [
    "# Example usage:\n",
    "nucleotides = \"GGGGGGGGGGGGGGGGTAAGGGGGG\"\n",
    "note_freqs = nucleotides_to_sound(nucleotides)\n",
    "print(note_freqs)"
   ]
  },
  {
   "cell_type": "code",
   "execution_count": 71,
   "id": "d9307d9e-58c5-4bc6-87da-309b41318050",
   "metadata": {},
   "outputs": [],
   "source": [
    "def generate_and_play_notes(note_freqs, duration, filename):\n",
    "    \"\"\"\n",
    "    Generates sine wave notes at the specified frequencies, saves them to a WAV file, and plays the sequence.\n",
    "\n",
    "    Args:\n",
    "        note_freqs (list of float): List of frequencies of the notes in Hz.\n",
    "        duration (float): The duration of each note in seconds.\n",
    "        filename (str): The filename to save the WAV file.\n",
    "    \"\"\"\n",
    "    filename = filename + \".wav\"\n",
    "    \n",
    "    # Sampling rate (the number of samples (data points) captured per second)\n",
    "    sampling_rate = 44100\n",
    "\n",
    "    # Initialize an empty array to store audio samples\n",
    "    audio_samples = np.array([])\n",
    "\n",
    "    # Generate each note and concatenate to the audio samples\n",
    "    for freq in note_freqs:\n",
    "        # Define the time array\n",
    "        t = np.linspace(0, duration, int(sampling_rate * duration), endpoint=False)\n",
    "\n",
    "        # Generate the sine wave for the note\n",
    "        note = np.sin(2 * np.pi * freq * t)\n",
    "\n",
    "        # Concatenate the note to the audio samples\n",
    "        audio_samples = np.append(audio_samples, note)\n",
    "\n",
    "    # Reshape the audio samples to 2D array (1 channel)\n",
    "    audio_samples = audio_samples.reshape(-1, 1)\n",
    "\n",
    "    # Write the audio samples to a WAV file\n",
    "    sf.write(filename, audio_samples, sampling_rate)\n",
    "\n",
    "    # Play the generated audio\n",
    "    playsound(filename)\n",
    "\n"
   ]
  },
  {
   "cell_type": "code",
   "execution_count": 33,
   "id": "3e9f051c-3496-47f0-bbd2-c72a87f11e52",
   "metadata": {},
   "outputs": [],
   "source": [
    "# Example usage:\n",
    "note_freqs = [440, 523.25,0, 659.25]  # A4, C5, E5 frequencies\n",
    "generate_and_play_notes(note_freqs, 0.25, \"sequence.wav\") "
   ]
  },
  {
   "cell_type": "code",
   "execution_count": 72,
   "id": "5dc3a158-9348-492d-999d-053cc346b8f0",
   "metadata": {},
   "outputs": [],
   "source": [
    "def play_dna(nucleotides, filename, duration = 0.25):\n",
    "    \"\"\"\n",
    "    Generates and plays music corresponding to a sequence of nucleotides in DNA.\n",
    "\n",
    "    This function converts a sequence of nucleotides in DNA to musical notes according to a predefined mapping. \n",
    "    It generates sine wave notes at the specified frequencies, saves them to a WAV file, and plays the sequence.\n",
    "\n",
    "    Args:\n",
    "        nucleotides (str): Sequence of nucleotides in DNA.\n",
    "        filename (str): The filename to save the WAV file (without extension).\n",
    "        duration (float, optional): The duration of each note in seconds. Defaults to 0.25.\n",
    "    \"\"\"\n",
    "    # Convert DNA sequence to corresponding note frequencies\n",
    "    note_freqs = nucleotides_to_sound(nucleotides)\n",
    "    \n",
    "    # Generate and play notes\n",
    "    generate_and_play_notes(note_freqs, duration, filename)"
   ]
  },
  {
   "cell_type": "markdown",
   "id": "d8da6b37-22fc-4a80-bea7-d22b116aeb54",
   "metadata": {},
   "source": [
    "# 2. Practice examples"
   ]
  },
  {
   "cell_type": "markdown",
   "id": "695ddd88-1eac-45f9-9509-3dd5e58959dc",
   "metadata": {},
   "source": [
    "Telomeres serve as caps that protect important information on chromosomes from damage during cell division. However, they shorten with each division, limiting the potential number of divisions a cell can undergo. This has led to a theory suggesting that the maximum potential lifespan of a human, even with all the benefits of medicine, is around 120 years. Beyond this point, chromosomes may lack sufficient protection at their ends."
   ]
  },
  {
   "cell_type": "code",
   "execution_count": 84,
   "id": "423bb131-fd2c-49cb-bbe4-d2ce98417e06",
   "metadata": {},
   "outputs": [],
   "source": [
    "play_dna(\"TTAGGGTTAGGGTTAGGG\",\"Telomeric_DNA\")"
   ]
  },
  {
   "cell_type": "code",
   "execution_count": 86,
   "id": "0c575b37-3ee5-4b26-9647-042442ef9b1d",
   "metadata": {},
   "outputs": [],
   "source": [
    "play_dna(\"TTTGGGTTTGGGTTTGGG\",\"mutated_Telomeric_DNA\") \n",
    "#inhibits proliferation of LOX melanoma and UM-UC-3 bladder cancer cells"
   ]
  },
  {
   "cell_type": "markdown",
   "id": "422769ed-f2a5-464e-b138-b6fbb4f1c1d4",
   "metadata": {},
   "source": [
    "Insulin is a crucial hormone in our body that helps control blood sugar levels. Genetic engineers were able to isolate (cut out) the gene for insulin from DNA and insert it into genetic code of bacteria (E. coli), allowing it to synthesize insulin that can be used for medical purposes."
   ]
  },
  {
   "cell_type": "code",
   "execution_count": 90,
   "id": "c157d173-1889-4618-ac20-db072448df1d",
   "metadata": {},
   "outputs": [],
   "source": [
    "play_dna(\"AGCCCTCCAGGACAGGCTGCATCAGAAGAGGCCATCAAGCAGGTCTGTTCCAAGGGCCTTT\", \"part_insulin\")"
   ]
  },
  {
   "cell_type": "code",
   "execution_count": null,
   "id": "ac2fc2ca-c7e0-4b60-abdb-f7067c9f7d5b",
   "metadata": {},
   "outputs": [],
   "source": []
  },
  {
   "cell_type": "code",
   "execution_count": null,
   "id": "e82ae11d-1f72-46f9-9034-165961d4ffe9",
   "metadata": {},
   "outputs": [],
   "source": []
  }
 ],
 "metadata": {
  "kernelspec": {
   "display_name": "Python 3 (ipykernel)",
   "language": "python",
   "name": "python3"
  },
  "language_info": {
   "codemirror_mode": {
    "name": "ipython",
    "version": 3
   },
   "file_extension": ".py",
   "mimetype": "text/x-python",
   "name": "python",
   "nbconvert_exporter": "python",
   "pygments_lexer": "ipython3",
   "version": "3.12.1"
  }
 },
 "nbformat": 4,
 "nbformat_minor": 5
}
